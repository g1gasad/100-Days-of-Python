{
 "cells": [
  {
   "cell_type": "code",
   "execution_count": 3,
   "metadata": {},
   "outputs": [
    {
     "name": "stdout",
     "output_type": "stream",
     "text": [
      "Approximately one quarter of human bones are in the feet.\n"
     ]
    }
   ],
   "source": [
    "from question_model import Question\n",
    "from data import question_data\n",
    "import random\n",
    "\n",
    "question_bank = []\n",
    "\n",
    "for question in question_data:\n",
    "    question_text = question['text']\n",
    "    question_answer = question['answer']\n",
    "    new_q = Question(question_text, question_answer)\n",
    "    question_bank.append(new_q)\n",
    "\n",
    "print(question_bank[2].text)"
   ]
  },
  {
   "cell_type": "code",
   "execution_count": 6,
   "metadata": {},
   "outputs": [
    {
     "data": {
      "text/plain": [
       "<question_model.Question at 0x154d27358d0>"
      ]
     },
     "execution_count": 6,
     "metadata": {},
     "output_type": "execute_result"
    }
   ],
   "source": [
    "ans = input(f\"{question_bank}\")"
   ]
  },
  {
   "cell_type": "code",
   "execution_count": null,
   "metadata": {},
   "outputs": [],
   "source": []
  }
 ],
 "metadata": {
  "kernelspec": {
   "display_name": "Python 3",
   "language": "python",
   "name": "python3"
  },
  "language_info": {
   "codemirror_mode": {
    "name": "ipython",
    "version": 3
   },
   "file_extension": ".py",
   "mimetype": "text/x-python",
   "name": "python",
   "nbconvert_exporter": "python",
   "pygments_lexer": "ipython3",
   "version": "3.11.4"
  }
 },
 "nbformat": 4,
 "nbformat_minor": 2
}
